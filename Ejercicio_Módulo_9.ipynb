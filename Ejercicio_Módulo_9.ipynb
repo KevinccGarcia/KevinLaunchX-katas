{
 "cells": [
  {
   "cell_type": "markdown",
   "metadata": {},
   "source": [
    "# Módulo 9 - Katas\n",
    "Autor: Kevin Correa García\n",
    "## Ejercicio: Uso de funciones en Python"
   ]
  },
  {
   "cell_type": "markdown",
   "metadata": {},
   "source": [
    "## Ejercicio 1: Trabajar con argumentos en funciones"
   ]
  },
  {
   "cell_type": "code",
   "execution_count": 33,
   "metadata": {},
   "outputs": [
    {
     "name": "stdout",
     "output_type": "stream",
     "text": [
      "Combustible disponible:\n",
      "    Tanque 1: 20%\n",
      "    Tanque 2: 13%\n",
      "    Tanque 3: 13%\n",
      "    Nivel promedio restante: 37% \n"
     ]
    }
   ],
   "source": [
    "from math import ceil, floor\n",
    "\n",
    "def reporte(tanque1, tanque2, tanque3):\n",
    "    promedio = round((tanque1 + tanque2 + tanque3 / 3))\n",
    "    return f\"\"\"Combustible disponible:\n",
    "    Tanque 1: {tanque1}%\n",
    "    Tanque 2: {tanque2}%\n",
    "    Tanque 3: {tanque3}%\n",
    "    Nivel promedio restante: {promedio}% \"\"\"\n",
    "\n",
    "print(reporte(20,13,13))"
   ]
  },
  {
   "cell_type": "code",
   "execution_count": 34,
   "metadata": {},
   "outputs": [],
   "source": [
    "def promedio(*args):\n",
    "    avrgF = sum(args) / len(args)\n",
    "    roundAvrg = round(avrgF)\n",
    "    return roundAvrg\n",
    "\n"
   ]
  },
  {
   "cell_type": "code",
   "execution_count": 37,
   "metadata": {},
   "outputs": [],
   "source": [
    "def reporte(tanque1, tanque2, tanque3):\n",
    "    return f\"\"\"Combustible disponible:\n",
    "    Tanque 1: {tanque1}%\n",
    "    Tanque 2: {tanque2}%\n",
    "    Tanque 3: {tanque3}%\n",
    "    Nivel promedio restante: {promedio(tanque1, tanque2, tanque3)}% \"\"\""
   ]
  },
  {
   "cell_type": "code",
   "execution_count": 38,
   "metadata": {},
   "outputs": [
    {
     "name": "stdout",
     "output_type": "stream",
     "text": [
      "Combustible disponible:\n",
      "    Tanque 1: 12%\n",
      "    Tanque 2: 41%\n",
      "    Tanque 3: 42%\n",
      "    Nivel promedio restante: 32% \n"
     ]
    }
   ],
   "source": [
    "print(reporte(12,41,42))"
   ]
  },
  {
   "cell_type": "markdown",
   "metadata": {},
   "source": [
    "## Ejercicio 2: Trabajo con argumentos de palabra clave\n",
    "Ejercicio: Trabajar con argumentos de palabras clave en funciones"
   ]
  },
  {
   "cell_type": "code",
   "execution_count": 98,
   "metadata": {},
   "outputs": [
    {
     "name": "stdout",
     "output_type": "stream",
     "text": [
      "\n",
      "    Hora pre Lanzamiento:          12\n",
      "    Tiempo de vuelo                15\n",
      "    Destino:                       luna\n",
      "    Combustible en tanque externo: 25lt\n",
      "    Combustible en tanque interno: 25lt\n"
     ]
    }
   ],
   "source": [
    "def informe(horapreLanzamiento, tiempoVuelo, destino, tanqueE, tanqueI,):\n",
    "    return f\"\"\"\n",
    "    Hora pre Lanzamiento:          {horapreLanzamiento}\n",
    "    Tiempo de vuelo                {tiempoVuelo}\n",
    "    Destino:                       {destino}\n",
    "    Combustible en tanque externo: {tanqueE}lt\n",
    "    Combustible en tanque interno: {tanqueI}lt\"\"\"\n",
    "\n",
    "print(informe(12, 15, 'luna', 25, 25))"
   ]
  },
  {
   "cell_type": "code",
   "execution_count": 60,
   "metadata": {},
   "outputs": [],
   "source": [
    "from datetime import timedelta, date\n",
    "\n",
    "def informeM(hora, destino, **kwargs):                  #Definir la función\n",
    "    today = date.today()                                #Definir la fecha en una variable\n",
    "\n",
    "    if hora >= 60:                                      #Condicional para imprimir en la consola\n",
    "        horaR = round(hora / 60)                        #la hora en minutos o horas\n",
    "        horaH = 'horas'\n",
    "    else:\n",
    "        horaR = hora\n",
    "        horaH = 'minutos'\n",
    "\n",
    "    comb = sum(kwargs.values())                         #definir la variable de acuerdo a los\n",
    "                                                        #parametros key dados\n",
    "    return f\"\"\"{today}\n",
    "Su destino es:              {destino}\n",
    "Tiempo estimado de vuelo:   {horaR} {horaH}\n",
    "Combustible:                {comb}  lt\n",
    "Que tenga un buen viaje!\"\"\""
   ]
  },
  {
   "cell_type": "code",
   "execution_count": 61,
   "metadata": {},
   "outputs": [
    {
     "name": "stdout",
     "output_type": "stream",
     "text": [
      "2022-02-16\n",
      "Su destino es:              Marte\n",
      "Tiempo estimado de vuelo:   10 horas\n",
      "Combustible:                120  lt\n",
      "Que tenga un buen viaje!\n"
     ]
    }
   ],
   "source": [
    "print(informeM(594, 'Marte', tanque1=10, tanque2=90, tanque3=20 ))"
   ]
  },
  {
   "cell_type": "code",
   "execution_count": 106,
   "metadata": {},
   "outputs": [],
   "source": [
    "from datetime import timedelta, date\n",
    "\n",
    "def informeM(hora, destino, **kwargs):                  #Definir la función\n",
    "    today = date.today()                                #Definir la fecha en una variable\n",
    "\n",
    "    if hora >= 60:                                      #Condicional para imprimir en la consola\n",
    "        horaR = round(hora / 60)                        #la hora en minutos o horas\n",
    "        horaH = 'horas'\n",
    "    else:\n",
    "        horaR = hora\n",
    "        horaH = 'minutos'\n",
    "    tanks = kwargs.keys()\n",
    "    comb = sum(kwargs.values())                         #definir la variable de acuerdo a los\n",
    "                                                        #parametros key dados\n",
    "    return f\"\"\"{today}\n",
    "Su destino es:              {destino}\n",
    "Tiempo estimado de vuelo:   {horaR} {horaH}\n",
    "Combustible:                {comb}  lt\n",
    "tanques: {tanks}\n",
    "Que tenga un buen viaje!\"\"\""
   ]
  },
  {
   "cell_type": "code",
   "execution_count": 107,
   "metadata": {},
   "outputs": [
    {
     "name": "stdout",
     "output_type": "stream",
     "text": [
      "2022-02-17\n",
      "Su destino es:              Marte\n",
      "Tiempo estimado de vuelo:   10 horas\n",
      "Combustible:                120  lt\n",
      "tanques: dict_keys(['tanque1', 'tanque2', 'tanque3'])\n",
      "Que tenga un buen viaje!\n"
     ]
    }
   ],
   "source": [
    "print(informeM(594, 'Marte', tanque1=10, tanque2=90, tanque3=20 ))"
   ]
  }
 ],
 "metadata": {
  "interpreter": {
   "hash": "7f316ce05a0c4170ba4484e3efd14dee3226178e34dfd81e786ec8a894f84480"
  },
  "kernelspec": {
   "display_name": "Python 3.10.2 64-bit",
   "language": "python",
   "name": "python3"
  },
  "language_info": {
   "codemirror_mode": {
    "name": "ipython",
    "version": 3
   },
   "file_extension": ".py",
   "mimetype": "text/x-python",
   "name": "python",
   "nbconvert_exporter": "python",
   "pygments_lexer": "ipython3",
   "version": "3.10.2"
  },
  "orig_nbformat": 4
 },
 "nbformat": 4,
 "nbformat_minor": 2
}
