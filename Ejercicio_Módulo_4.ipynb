{
 "cells": [
  {
   "cell_type": "markdown",
   "metadata": {},
   "source": [
    "# Modulo 4 - Katas\n",
    "Autor: Kevin Correa García\n",
    "## Ejercicio 1: Transformar cadenas"
   ]
  },
  {
   "cell_type": "markdown",
   "metadata": {},
   "source": [
    "## Primero dividimos el texto en oraciones."
   ]
  },
  {
   "cell_type": "code",
   "execution_count": 1,
   "metadata": {},
   "outputs": [
    {
     "name": "stdout",
     "output_type": "stream",
     "text": [
      "['Interesting facts about the Moon', \"The Moon is Earth's only satellite\", 'There are several interesting facts about the Moon and how it affects life here on Earth', '\\nOn average, the Moon moves 4cm away from the Earth every year', 'This yearly drift is not significant enough to cause immediate effects on Earth', 'The highest daylight temperature of the Moon is 127 C.']\n",
      "\n",
      "Actualmente hay 6 oraciones que se dividieron!\n"
     ]
    }
   ],
   "source": [
    "text = \"\"\"Interesting facts about the Moon. The Moon is Earth's only satellite. There are several interesting facts about the Moon and how it affects life here on Earth. \n",
    "On average, the Moon moves 4cm away from the Earth every year. This yearly drift is not significant enough to cause immediate effects on Earth. The highest daylight temperature of the Moon is 127 C.\"\"\"\n",
    "\n",
    "textoCortado = text.split(\". \")\n",
    "print(textoCortado)\n",
    "\n",
    "cuantosItems = len(textoCortado)\n",
    "\n",
    "print(f\"\\nActualmente hay {cuantosItems} oraciones que se dividieron!\")"
   ]
  },
  {
   "cell_type": "markdown",
   "metadata": {},
   "source": [
    "## Define algunas palabras clave para búsqueda que te ayudarán a determinar si una oración contiene un hecho."
   ]
  },
  {
   "cell_type": "code",
   "execution_count": 2,
   "metadata": {},
   "outputs": [],
   "source": [
    "palabrasClave = [\"average\", \"temperature\", \"distance\",]\n"
   ]
  },
  {
   "cell_type": "markdown",
   "metadata": {},
   "source": [
    "## Loop para imprimir solo los datos sobre la luna que esten relacionados con las palabras clave"
   ]
  },
  {
   "cell_type": "code",
   "execution_count": 3,
   "metadata": {},
   "outputs": [
    {
     "name": "stdout",
     "output_type": "stream",
     "text": [
      "La siguiente oración contiene la palabra clave!ヽ(°〇°)ﾉ:\n",
      "On average, the Moon moves 4cm away from the Earth every year\n",
      "\n",
      "La siguiente oración contiene la palabra clave!ヽ(°〇°)ﾉ:\n",
      "The highest daylight temperature of the Moon is 127 C.\n",
      "\n"
     ]
    }
   ],
   "source": [
    "for i in palabrasClave:\n",
    "    for a in textoCortado:\n",
    "        if i in a:\n",
    "            aa = a.lstrip(\"\\n\")\n",
    "            print(f\"La siguiente oración contiene la palabra clave!ヽ(°〇°)ﾉ:\\n{aa}\\n\")\n",
    "            break"
   ]
  },
  {
   "cell_type": "markdown",
   "metadata": {},
   "source": [
    "## Loop para reemplazar C a Celcius"
   ]
  },
  {
   "cell_type": "code",
   "execution_count": 4,
   "metadata": {},
   "outputs": [
    {
     "name": "stdout",
     "output_type": "stream",
     "text": [
      "The highest daylight temperature of the Moon is 127 Celcius.\n"
     ]
    }
   ],
   "source": [
    "\n",
    "for b in textoCortado:\n",
    "    if \"C\" in b:\n",
    "        print(b.replace(\"C\", \"Celcius\"))"
   ]
  },
  {
   "cell_type": "markdown",
   "metadata": {},
   "source": [
    "# Ejercicio 2: formateando Cadenas"
   ]
  },
  {
   "cell_type": "markdown",
   "metadata": {},
   "source": [
    "## Datos para trabajar"
   ]
  },
  {
   "cell_type": "code",
   "execution_count": 11,
   "metadata": {},
   "outputs": [],
   "source": [
    "#Datos iniciales\n",
    "name = \"Moon\"\n",
    "gravity = \"0300162\" # en km/s\n",
    "planet = \"Earth\"\n",
    "\n"
   ]
  },
  {
   "cell_type": "markdown",
   "metadata": {},
   "source": [
    "## Título"
   ]
  },
  {
   "cell_type": "code",
   "execution_count": 12,
   "metadata": {},
   "outputs": [
    {
     "name": "stdout",
     "output_type": "stream",
     "text": [
      "Datos Gravitatorios De La Luna Moon Del Planeta Earth\n",
      "------------------------------------\n"
     ]
    }
   ],
   "source": [
    "title = f\"\"\"Datos gravitatorios de la luna {name} del planeta {planet}\n",
    "------------------------------------\"\"\".title()\n",
    "print(title)"
   ]
  },
  {
   "cell_type": "markdown",
   "metadata": {},
   "source": [
    "## Plantilla"
   ]
  },
  {
   "cell_type": "code",
   "execution_count": 13,
   "metadata": {},
   "outputs": [
    {
     "name": "stdout",
     "output_type": "stream",
     "text": [
      "Nombre de la luna: Moon\n",
      "Gravedad en Moon: 300162000 m/s2\n"
     ]
    }
   ],
   "source": [
    "gravedadEnMetros = int(gravity) * 1000\n",
    "hechos = f\"\"\"Nombre de la luna: {name}\n",
    "Gravedad en {name}: {gravedadEnMetros} m/s2\"\"\"\n",
    "print(hechos)"
   ]
  },
  {
   "cell_type": "markdown",
   "metadata": {},
   "source": [
    "## Unir ambas variables"
   ]
  },
  {
   "cell_type": "code",
   "execution_count": 14,
   "metadata": {},
   "outputs": [
    {
     "name": "stdout",
     "output_type": "stream",
     "text": [
      "Datos Gravitatorios De La Luna Moon Del Planeta Earth\n",
      "------------------------------------\n",
      "Nombre de la luna: Moon\n",
      "Gravedad en Moon: 300162000 m/s2\n"
     ]
    }
   ],
   "source": [
    "tituloHechos = title + (\"\\n\") + hechos\n",
    "\n",
    "print(tituloHechos)"
   ]
  },
  {
   "cell_type": "markdown",
   "metadata": {},
   "source": [
    "## Comprobar la plantilla"
   ]
  },
  {
   "cell_type": "code",
   "execution_count": 15,
   "metadata": {},
   "outputs": [
    {
     "name": "stdout",
     "output_type": "stream",
     "text": [
      "Datos Gravitatorios De La Luna Moon Del Planeta Earth\n",
      "------------------------------------\n",
      "Nombre de la luna: Moon\n",
      "Gravedad en Moon: 300162000 m/s2\n"
     ]
    }
   ],
   "source": [
    "#comprobar plantilla\n",
    "print(tituloHechos)"
   ]
  },
  {
   "cell_type": "markdown",
   "metadata": {},
   "source": [
    "## Creación de la nueva plantilla"
   ]
  },
  {
   "cell_type": "code",
   "execution_count": 16,
   "metadata": {},
   "outputs": [],
   "source": [
    "# Cambiar los datos a datos nuevos\n",
    "#datos muestra 2\n",
    "name = \"Ganímedes\"\n",
    "gravity = \"0.00143\"\n",
    "planet = \"Marte\""
   ]
  },
  {
   "cell_type": "code",
   "execution_count": 17,
   "metadata": {},
   "outputs": [
    {
     "name": "stdout",
     "output_type": "stream",
     "text": [
      "Datos gravitarios de la luna Ganímedes del planeta Marte\n",
      "-------------------------------------------------------\n",
      "Nombre de la luna: Ganímedes\n",
      "Gravedad en Ganímedes: 1.4300000000000002 M/s2 \n"
     ]
    }
   ],
   "source": [
    "gravedadEnMetrosInt = float(gravity) * 1000\n",
    "nuevaPlantilla = f\"\"\"Datos gravitarios de la luna {name} del planeta {planet}\n",
    "-------------------------------------------------------\n",
    "Nombre de la luna: {name}\n",
    "Gravedad en {name}: {gravedadEnMetrosInt} M/s2 \"\"\"\n",
    "\n",
    "print(nuevaPlantilla)"
   ]
  }
 ],
 "metadata": {
  "interpreter": {
   "hash": "7f316ce05a0c4170ba4484e3efd14dee3226178e34dfd81e786ec8a894f84480"
  },
  "kernelspec": {
   "display_name": "Python 3.10.2 64-bit",
   "language": "python",
   "name": "python3"
  },
  "language_info": {
   "codemirror_mode": {
    "name": "ipython",
    "version": 3
   },
   "file_extension": ".py",
   "mimetype": "text/x-python",
   "name": "python",
   "nbconvert_exporter": "python",
   "pygments_lexer": "ipython3",
   "version": "3.10.2"
  },
  "orig_nbformat": 4
 },
 "nbformat": 4,
 "nbformat_minor": 2
}
