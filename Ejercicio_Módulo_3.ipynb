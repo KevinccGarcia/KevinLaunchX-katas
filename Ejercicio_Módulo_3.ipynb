{
 "cells": [
  {
   "cell_type": "markdown",
   "metadata": {},
   "source": [
    "## Modulo 3 - Katas\n",
    "Ejercicio - Escribir declaraciones if, else y elif"
   ]
  },
  {
   "cell_type": "markdown",
   "metadata": {},
   "source": [
    "Autor: Kevin Correa García"
   ]
  },
  {
   "cell_type": "markdown",
   "metadata": {},
   "source": [
    "Para este ejercicio, escribirás una lógica condicional que imprima una advertencia si un asteroide se acerca a la Tierra demasiado rápido. La velocidad del asteroide varía dependiendo de lo cerca que esté del sol, y cualquier velocidad superior a 25 kilómetros por segundo (km/s) merece una advertencia.\n",
    "\n",
    "Un asteroide se acerca, y viaja a una velocidad de 49 km/s."
   ]
  },
  {
   "cell_type": "code",
   "execution_count": 1,
   "metadata": {},
   "outputs": [
    {
     "name": "stdout",
     "output_type": "stream",
     "text": [
      "Advertencia!, se aproxima un asteroide a 49km/s\n"
     ]
    }
   ],
   "source": [
    "velocidadAsteroide = 49\n",
    "\n",
    "if velocidadAsteroide >= 25:\n",
    "    print(\"Advertencia!, se aproxima un asteroide a \" + str(velocidadAsteroide) + \"km/s\")\n",
    "else:\n",
    "    print(\"El asteroide es seguro para la tierra\")"
   ]
  },
  {
   "cell_type": "markdown",
   "metadata": {},
   "source": [
    "Si un asteroide entra en la atmósfera de la Tierra a una velocidad mayor o igual a 20 km/s, a veces produce un rayo de luz que se puede ver desde la Tierra. Escribe la lógica condicional que usa declaraciones if, else, y elif para alertar a las personas de todo el mundo que deben buscar un asteroide en el cielo. ¡Hay uno que se dirige a la tierra ahora a una velocidad de 19 km/s!"
   ]
  },
  {
   "cell_type": "code",
   "execution_count": 2,
   "metadata": {},
   "outputs": [
    {
     "name": "stdout",
     "output_type": "stream",
     "text": [
      "Advertencia! un asteroide se aproxima a la tierra aunque no lo puedan ver!\n"
     ]
    }
   ],
   "source": [
    "velocidadAsteroide = 19\n",
    "\n",
    "if velocidadAsteroide >= 20:\n",
    "    print(\"Advertencia!, se aproxima un asteroide a \" + str(velocidadAsteroide) + \"km/s, miren hacia el cielo para ver el rayo de luz!\")\n",
    "elif velocidadAsteroide < 20:\n",
    "    print(\"Advertencia! un asteroide se aproxima a la tierra aunque no lo puedan ver!\")\n",
    "else:\n",
    "    print(\"El asteroide es seguro para la tierra\")"
   ]
  },
  {
   "cell_type": "markdown",
   "metadata": {},
   "source": [
    "# Ejercicio : Uso de operadores and y or"
   ]
  },
  {
   "cell_type": "code",
   "execution_count": 3,
   "metadata": {},
   "outputs": [
    {
     "name": "stdout",
     "output_type": "stream",
     "text": [
      "¡Advertencia! el asteroida que se aproxima causará daño masivo, preparense para evacuar.\n",
      "¡Asteroide producirá rayo de luz en el cielo!\n"
     ]
    }
   ],
   "source": [
    "tamañoAsteroide = 50\n",
    "velocidadAsteroide = 26\n",
    "\n",
    "if tamañoAsteroide < 25 or velocidadAsteroide < 25:\n",
    "    print(\"¡El asteroide se desintegrará en la atmosfera!\")\n",
    "elif tamañoAsteroide >= 25 and tamañoAsteroide < 1000 and velocidadAsteroide >= 25:\n",
    "    print(\"¡Advertencia! el asteroida que se aproxima causará daño masivo, preparense para evacuar.\")\n",
    "    if velocidadAsteroide >= 20:\n",
    "        print(\"¡Asteroide producirá rayo de luz en el cielo!\")\n",
    "else:\n",
    "    print(\"¡No hay un peligro inminente! ＼(≧▽≦)／\")\n"
   ]
  }
 ],
 "metadata": {
  "interpreter": {
   "hash": "7f316ce05a0c4170ba4484e3efd14dee3226178e34dfd81e786ec8a894f84480"
  },
  "kernelspec": {
   "display_name": "Python 3.10.2 64-bit",
   "language": "python",
   "name": "python3"
  },
  "language_info": {
   "codemirror_mode": {
    "name": "ipython",
    "version": 3
   },
   "file_extension": ".py",
   "mimetype": "text/x-python",
   "name": "python",
   "nbconvert_exporter": "python",
   "pygments_lexer": "ipython3",
   "version": "3.10.2"
  },
  "orig_nbformat": 4
 },
 "nbformat": 4,
 "nbformat_minor": 2
}
