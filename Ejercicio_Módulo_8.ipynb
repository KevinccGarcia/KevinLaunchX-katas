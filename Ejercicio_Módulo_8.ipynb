{
 "cells": [
  {
   "cell_type": "markdown",
   "metadata": {},
   "source": [
    "# Ejercicio 1: Creación de diccionarios de Python\n",
    "Autor: Kevin Correa García\n",
    "## Ejercicio: Crear y modificar un diccionario de Python"
   ]
  },
  {
   "cell_type": "code",
   "execution_count": 27,
   "metadata": {},
   "outputs": [
    {
     "name": "stdout",
     "output_type": "stream",
     "text": [
      "Datos Sobre Marte!\n",
      "El planeta Marte tiene 2 lunas.\n",
      "\n",
      "El planeta Marte tiene una circunferencia polar total de: 6752 kilometros w(°ｏ°)w\t \n"
     ]
    }
   ],
   "source": [
    "from time import sleep \n",
    "\n",
    "print(\"datos sobre marte!\".title())\n",
    "\n",
    "planet = {              #Creacion del diccionario\n",
    "    'name': 'Marte',\n",
    "    'moons': 2\n",
    "}\n",
    "\n",
    "print(f\"El planeta {planet['name']} tiene {planet['moons']} lunas.\\n\")\n",
    "\n",
    "planet['circunferencia (km)'] = {       #Añadir un diccionario al diccionario\n",
    "    'polar': 6752,\n",
    "    'equatorial': 6792\n",
    "}\n",
    "\n",
    "sleep(1)        #Un sleep bonito\n",
    "\n",
    "#for i in planet.keys():                                 #Un loop para comprobar\n",
    "#   print(f\"key and value: \\n{i} and {planet[i]}\\n\")     #que este todo correcto\n",
    "\n",
    "print(f\"El planeta {planet['name']} tiene una circunferencia polar total de: {planet['circunferencia (km)']['polar']} kilometros w(°ｏ°)w\t \") #Imprimir el nombre del planeta con su circunferencia polar"
   ]
  },
  {
   "cell_type": "markdown",
   "metadata": {},
   "source": [
    "## Ejercio 2: Programación dinámica con diccionarios"
   ]
  },
  {
   "cell_type": "code",
   "execution_count": 1,
   "metadata": {},
   "outputs": [
    {
     "name": "stdout",
     "output_type": "stream",
     "text": [
      "17.833333333333332\n"
     ]
    }
   ],
   "source": [
    "# Planetas y sus lunas\n",
    "\n",
    "planetLunas = {\n",
    "    'mercury': 0,\n",
    "    'venus': 0,\n",
    "    'earth': 1,\n",
    "    'mars': 2,\n",
    "    'jupiter': 79,\n",
    "    'saturn': 82,\n",
    "    'uranus': 27,\n",
    "    'neptune': 14,\n",
    "    'pluto': 5,\n",
    "    'haumea': 2,\n",
    "    'makemake': 1,\n",
    "    'eris': 1\n",
    "}\n",
    "\n",
    "lunas = planetLunas.values()        #Variables que toman los valores del\n",
    "planets = planetLunas.keys()        #diccionario\n",
    "\n",
    "#print(str(lunas) + \"\\n\" + str(planets)) \n",
    "\n",
    "#Codigo para contar lunas\n",
    "\n",
    "totalLunas = 0\n",
    "\n",
    "for i in lunas:\n",
    "    totalLunas = totalLunas + i\n",
    "LunaAvrg = totalLunas / len(planets)\n",
    "\n",
    "print(LunaAvrg)\n"
   ]
  }
 ],
 "metadata": {
  "interpreter": {
   "hash": "7f316ce05a0c4170ba4484e3efd14dee3226178e34dfd81e786ec8a894f84480"
  },
  "kernelspec": {
   "display_name": "Python 3.10.2 64-bit",
   "language": "python",
   "name": "python3"
  },
  "language_info": {
   "codemirror_mode": {
    "name": "ipython",
    "version": 3
   },
   "file_extension": ".py",
   "mimetype": "text/x-python",
   "name": "python",
   "nbconvert_exporter": "python",
   "pygments_lexer": "ipython3",
   "version": "3.10.2"
  },
  "orig_nbformat": 4
 },
 "nbformat": 4,
 "nbformat_minor": 2
}
